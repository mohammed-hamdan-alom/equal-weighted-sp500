{
 "cells": [
  {
   "cell_type": "code",
   "execution_count": 1,
   "id": "73345254-14cc-4566-bb97-23af13533078",
   "metadata": {},
   "outputs": [
    {
     "ename": "ModuleNotFoundError",
     "evalue": "No module named 'pandas'",
     "output_type": "error",
     "traceback": [
      "\u001b[1;31m---------------------------------------------------------------------------\u001b[0m",
      "\u001b[1;31mModuleNotFoundError\u001b[0m                       Traceback (most recent call last)",
      "Cell \u001b[1;32mIn[1], line 2\u001b[0m\n\u001b[0;32m      1\u001b[0m \u001b[38;5;28;01mimport\u001b[39;00m \u001b[38;5;21;01mnumpy\u001b[39;00m \u001b[38;5;28;01mas\u001b[39;00m \u001b[38;5;21;01mnp\u001b[39;00m\n\u001b[1;32m----> 2\u001b[0m \u001b[38;5;28;01mimport\u001b[39;00m \u001b[38;5;21;01mpandas\u001b[39;00m \u001b[38;5;28;01mas\u001b[39;00m \u001b[38;5;21;01mpd\u001b[39;00m\n\u001b[0;32m      3\u001b[0m \u001b[38;5;28;01mimport\u001b[39;00m \u001b[38;5;21;01mrequests\u001b[39;00m\n\u001b[0;32m      4\u001b[0m \u001b[38;5;28;01mimport\u001b[39;00m \u001b[38;5;21;01mxlsxwriter\u001b[39;00m\n",
      "\u001b[1;31mModuleNotFoundError\u001b[0m: No module named 'pandas'"
     ]
    }
   ],
   "source": [
    "import numpy as np\n",
    "import pandas as pd\n",
    "import requests\n",
    "import xlsxwriter\n",
    "import math"
   ]
  },
  {
   "cell_type": "code",
   "execution_count": null,
   "id": "2f1167d3-2beb-45a5-86eb-61914ac18ad5",
   "metadata": {},
   "outputs": [],
   "source": [
    "stocks = pd.read_csv('s&p500_stocks.csv')\n",
    "stock_symbols = stocks['Ticker'].tolist()\n",
    "#stock_symbols"
   ]
  },
  {
   "cell_type": "code",
   "execution_count": null,
   "id": "28aa10b8-9a71-45a8-9357-3dc3bd659682",
   "metadata": {},
   "outputs": [],
   "source": [
    "IEX_CLOUD_API_TOKEN = 'sk_96206e7edc754fa6a6426b3e2a5adfcf'"
   ]
  },
  {
   "cell_type": "code",
   "execution_count": null,
   "id": "0bb872e9-b512-4013-9cae-1a25118c7506",
   "metadata": {},
   "outputs": [],
   "source": [
    "# Creating a pandas dataframe that will eventually be a our final excel sheet\n",
    "\n",
    "my_columns = ['Ticker', 'Price', 'Market Capitalisation', 'Number of shares to buy']\n",
    "final_dataframe = pd.DataFrame(columns = my_columns)\n"
   ]
  },
  {
   "cell_type": "code",
   "execution_count": null,
   "id": "7192b50a-bd15-4a1e-81be-f7209497d12a",
   "metadata": {},
   "outputs": [],
   "source": [
    "# Batch Api Requests for all stocks in FTSE 100\n",
    "\n",
    "\n",
    "# Create a string of the stocks to place in the URL\n",
    "stock_symbols_string = ','.join(stock_symbols)\n",
    "batch_url = f'https://api.iex.cloud/v1/data/CORE/QUOTE/{stock_symbols_string}?token={IEX_CLOUD_API_TOKEN}'\n",
    "\n",
    "data = requests.get(batch_url).json()\n",
    "\n",
    "\n",
    "for i in range(0, len(data)):\n",
    "    new_row = pd.Series({\n",
    "        'Ticker': data[i]['symbol'],\n",
    "        'Price': data[i]['latestPrice'],\n",
    "        'Market Capitalisation': data[i]['marketCap'],\n",
    "        'Number of shares to buy':'n/a'\n",
    "    })\n",
    "\n",
    "    final_dataframe.loc[len(final_dataframe)] = new_row\n",
    "\n",
    "#final_dataframe"
   ]
  },
  {
   "cell_type": "code",
   "execution_count": null,
   "id": "67339277-131f-4b7b-9e10-2a8f4cff5115",
   "metadata": {},
   "outputs": [],
   "source": [
    "\n",
    "def portfolio_size_input():\n",
    "    portfolio_size = input('Enter how much you would like to invest in dollars: ')\n",
    "\n",
    "    try:\n",
    "        val = float(portfolio_size)\n",
    "\n",
    "        if val > 0:\n",
    "            return val\n",
    "        else: \n",
    "            print(\"please enter a valid number\")\n",
    "            portfolio_size_input()\n",
    "    except ValueError:\n",
    "        print(\"please enter a valid number\")\n",
    "        portfolio_size_input()\n",
    "    \n",
    "    return \n",
    "\n",
    "\n",
    "val = portfolio_size_input()\n",
    "val\n"
   ]
  },
  {
   "cell_type": "code",
   "execution_count": null,
   "id": "5fcddcc4-ea14-42c9-8bc2-9398a95f444b",
   "metadata": {},
   "outputs": [],
   "source": [
    "position_size = val / len(final_dataframe.index)\n",
    "\n",
    "for i in range(0, len(final_dataframe.index)):\n",
    "    final_dataframe.loc[i, 'Number of shares to buy'] = math.floor(position_size / final_dataframe['Price'][i])\n",
    "\n",
    "#final_dataframe"
   ]
  },
  {
   "cell_type": "code",
   "execution_count": null,
   "id": "dc6df40d-5801-4af6-8650-8451a08199d2",
   "metadata": {},
   "outputs": [],
   "source": [
    "writer = pd.ExcelWriter('recommended_trades.xlsx', engine = 'xlsxwriter')\n",
    "final_dataframe.to_excel(writer, 'Recommended Trades', index = False)"
   ]
  },
  {
   "cell_type": "code",
   "execution_count": null,
   "id": "6ccb470e-b452-4db8-a932-1ec65a311243",
   "metadata": {},
   "outputs": [],
   "source": [
    "background_color = '#FFFFFF'\n",
    "font_color = '#000000'\n",
    "\n",
    "string_format = writer.book.add_format(\n",
    "        {\n",
    "            'font_color': font_color,\n",
    "            'bg_color': background_color,\n",
    "            'border': 1\n",
    "        }\n",
    "    )\n",
    "\n",
    "dollar_format = writer.book.add_format(\n",
    "        {\n",
    "            'num_format':'$0.00',\n",
    "            'font_color': font_color,\n",
    "            'bg_color': background_color,\n",
    "            'border': 1\n",
    "        }\n",
    "    )\n",
    "\n",
    "integer_format = writer.book.add_format(\n",
    "        {\n",
    "            'num_format':'0',\n",
    "            'font_color': font_color,\n",
    "            'bg_color': background_color,\n",
    "            'border': 1\n",
    "        }\n",
    "    )\n"
   ]
  },
  {
   "cell_type": "code",
   "execution_count": null,
   "id": "6914b106-07fb-4385-a750-f3014ef2cc5c",
   "metadata": {},
   "outputs": [],
   "source": [
    "column_formats = { \n",
    "                    'A': ['Ticker', string_format],\n",
    "                    'B': ['Price', dollar_format],\n",
    "                    'C': ['Market Capitalization', dollar_format],\n",
    "                    'D': ['Number of Shares to Buy', integer_format]\n",
    "                    }\n",
    "\n",
    "for column in column_formats.keys():\n",
    "    writer.sheets['Recommended Trades'].set_column(f'{column}:{column}', 20, column_formats[column][1])\n",
    "    writer.sheets['Recommended Trades'].write(f'{column}1', column_formats[column][0], string_format)"
   ]
  },
  {
   "cell_type": "code",
   "execution_count": null,
   "id": "44ec123b-4d1e-4dc0-848e-ee08d5c04e00",
   "metadata": {},
   "outputs": [],
   "source": [
    "writer.close()"
   ]
  }
 ],
 "metadata": {
  "kernelspec": {
   "display_name": "Python 3 (ipykernel)",
   "language": "python",
   "name": "python3"
  },
  "language_info": {
   "codemirror_mode": {
    "name": "ipython",
    "version": 3
   },
   "file_extension": ".py",
   "mimetype": "text/x-python",
   "name": "python",
   "nbconvert_exporter": "python",
   "pygments_lexer": "ipython3",
   "version": "3.11.3"
  }
 },
 "nbformat": 4,
 "nbformat_minor": 5
}
